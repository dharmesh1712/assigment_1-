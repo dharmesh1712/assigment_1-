{
  "nbformat": 4,
  "nbformat_minor": 0,
  "metadata": {
    "colab": {
      "provenance": [],
      "collapsed_sections": []
    },
    "kernelspec": {
      "name": "python3",
      "display_name": "Python 3"
    },
    "language_info": {
      "name": "python"
    }
  },
  "cells": [
    {
      "cell_type": "markdown",
      "source": [
        "# ASSIGNMENTS - Compulsory\n",
        "## Send it before 0000 hrs IST or 12 AM Wednesday\n",
        "\n",
        "## NOTE: Evaluation will be done before next class.\n",
        "\n",
        "## HOW TO SUBMIT: -\n",
        "Download this notebook, Solve it and upload in the google form given in the mail."
      ],
      "metadata": {
        "id": "cyOfbWCdOjEr"
      }
    },
    {
      "cell_type": "markdown",
      "source": [],
      "metadata": {
        "id": "8w7YCsS8C6k4"
      }
    },
    {
      "cell_type": "markdown",
      "source": [
        "##indentation error \n",
        "reflects when we don't not use the space after using the indentation :\n",
        "for example \n",
        "a=True\n",
        "b=False\n",
        "if a and b:\n"
      ],
      "metadata": {
        "id": "wrSp_xZqDEk3"
      }
    },
    {
      "cell_type": "markdown",
      "source": [
        "\n",
        "1. What is indentation error? Why indentation is important? Give one simple example?\n",
        "\n",
        "answer- in python running statment with indentation is considerd as one block if there is mismatch within a block or  block 1 and block2 than it throw and error as the indentation error.\n",
        "\n",
        "2. Correct the following code and write the comment where you made the correction?\n",
        "\n",
        "  ```python\n",
        "  class_started = bool(input(\"Hey friend, is class started?: [0-False/1-True]\"))\n",
        "\n",
        "  if class_started:\n",
        "      print(\"Since class started...\")\n",
        "      print(\"Lets concentrate\")\n",
        "  else:\n",
        "      print(\"Since class is not started...\")\n",
        "      print(\"let's revise\")  \n",
        "\n",
        "  ```\n",
        "  ##answer\n",
        "  \n",
        "  ```\n",
        "  class_started = bool(int(input(\"Hey friend, is class started?: [0-False/1-True]\")))\n",
        "\n",
        "  if class_started:\n",
        "      print(\"Since class started...\")\n",
        "      print(\"Lets concentrate\")\n",
        "  else:\n",
        "      print(\"Since class is not started...\")\n",
        "      print(\"let's revise\")  \n",
        "      \n",
        "      ```\n",
        "\n",
        "      so in the above statment we have used str data type as the input becacuse\n",
        "      any input in python is taken as the str data type, so it will give true\n",
        "      bcz any value in str is considered as true, \n",
        "      so we need to change the data type into (int) then 0 is considered as\n",
        "      false, and in int also any value expect zero is consdiderd as True.\n",
        "\n",
        "  **HINT:** Refer your data type conversion class\n",
        "\n",
        "3. Use if else condition to verify that dataype of `input()` method in python is always string.\n",
        "\n",
        "4. Take 3 variables and assign integer values to them. Find the largest variable, by only using the if and else conditions.\n",
        "\n",
        "\n",
        "5. What would be the solution?\n",
        "    1. True\n",
        "    2. False\n",
        "\n",
        "    ```python\n",
        "    a = 6\n",
        "    b = 10\n",
        "    print( not ( not a == 10 or not b == 10) )\n",
        "    ```\n",
        "    \n",
        "6. Find the answer as well as find out the reason behind the result? -\n",
        "    - case 1:\n",
        "        ```python\n",
        "        A = 5.0\n",
        "        B = 10/2\n",
        "        print(A is B)\n",
        "        ```\n",
        "    - case 2:\n",
        "        ```python\n",
        "        A = 5.0\n",
        "        B = int(10/2)\n",
        "        print(A is B)\n",
        "        ```\n",
        "    - case 3:\n",
        "        ```python\n",
        "        A = 5.0\n",
        "        B = float(10/2)\n",
        "        print(A is B)\n",
        "        ```"
      ],
      "metadata": {
        "id": "GT4IytkJMNa-"
      }
    },
    {
      "cell_type": "code",
      "source": [
        "# 2nd answer if class is started then.\n",
        "class_started = bool(int(input(\"Hey friend, is class started?: [0-False/1-True]\")))\n",
        "\n",
        "if class_started:\n",
        "   print(\"Since class started...\")\n",
        "   print(\"Lets concentrate\")\n",
        "else:\n",
        "   print(\"Since class is not started...\")\n",
        "   print(\"let's revise\") "
      ],
      "metadata": {
        "colab": {
          "base_uri": "https://localhost:8080/"
        },
        "id": "UVhnYg7rIPeh",
        "outputId": "672e2c3b-639a-4e9c-d693-5f84ac49a61d"
      },
      "execution_count": null,
      "outputs": [
        {
          "output_type": "stream",
          "name": "stdout",
          "text": [
            "Hey friend, is class started?: [0-False/1-True]1\n",
            "Since class started...\n",
            "Lets concentrate\n"
          ]
        }
      ]
    },
    {
      "cell_type": "code",
      "source": [
        "# 2nd answe if class is not started then.\n",
        "class_started = bool(int(input(\"Hey friend, is class started?: [0-False/1-True]\")))\n",
        "\n",
        "if class_started:\n",
        "   print(\"Since class started...\")\n",
        "   print(\"Lets concentrate\")\n",
        "else:\n",
        "   print(\"Since class is not started...\")\n",
        "   print(\"let's revise\") "
      ],
      "metadata": {
        "id": "3VA8KOFI_yhT",
        "colab": {
          "base_uri": "https://localhost:8080/"
        },
        "outputId": "a69d75d3-e014-46f5-e71b-1f3c5dde2479"
      },
      "execution_count": null,
      "outputs": [
        {
          "output_type": "stream",
          "name": "stdout",
          "text": [
            "Hey friend, is class started?: [0-False/1-True]0\n",
            "Since class is not started...\n",
            "let's revise\n"
          ]
        }
      ]
    },
    {
      "cell_type": "code",
      "source": [
        "# 3rd answer\n",
        "# lets verify that input by defalut take the string (str)\n",
        "a=input()\n",
        "b=input()\n",
        "c=(a+b)\n",
        "print(c)\n",
        "# as we know that when we concatenate any str it will concatenate it. example str(5)+str(5)=is equal str(55)\n"
      ],
      "metadata": {
        "id": "S8Tkoc9oLQWE",
        "colab": {
          "base_uri": "https://localhost:8080/"
        },
        "outputId": "711e135c-d26c-441d-eb51-440386d07cb3"
      },
      "execution_count": null,
      "outputs": [
        {
          "output_type": "stream",
          "name": "stdout",
          "text": [
            "5\n",
            "5\n",
            "55\n"
          ]
        }
      ]
    },
    {
      "cell_type": "code",
      "source": [
        "# 4th answer\n",
        "a=5\n",
        "b=2\n",
        "c=9\n",
        "\n",
        "if a>b:\n",
        " if a>c:\n",
        "  print(a)\n",
        " else:\n",
        "   if c>b:\n",
        "     print(c)\n",
        "else:\n",
        "  if b>c:\n",
        "    print(b)\n",
        "  else:\n",
        "    if c>a:\n",
        "      print(c)  \n",
        "\n",
        "\n",
        "  \n",
        "  "
      ],
      "metadata": {
        "colab": {
          "base_uri": "https://localhost:8080/"
        },
        "id": "B9-aRyHHRKz5",
        "outputId": "166b590b-6ad9-4557-a5ec-90c6c2147a4d"
      },
      "execution_count": null,
      "outputs": [
        {
          "output_type": "stream",
          "name": "stdout",
          "text": [
            "9\n"
          ]
        }
      ]
    },
    {
      "cell_type": "code",
      "source": [
        "# 5th answer\n",
        "a = 6\n",
        "b = 10\n",
        "print( not ( not a == 10 or not b == 10) )\n",
        "'''this will give false because ((a==10)False) but we are using not so false will convert into True, now  ((b==10)True) but we are using not so True will convert\n",
        "into False, but we have used (or) so again it will convert into True bcz (or) is considerd as True, now we have used not outside so atlast True will convert into False'''"
      ],
      "metadata": {
        "colab": {
          "base_uri": "https://localhost:8080/"
        },
        "id": "Xhk3bBaHW9i7",
        "outputId": "cf7b5685-0256-43ab-fcc2-1ee6fe8c348c"
      },
      "execution_count": null,
      "outputs": [
        {
          "output_type": "stream",
          "name": "stdout",
          "text": [
            "False\n"
          ]
        }
      ]
    },
    {
      "cell_type": "code",
      "source": [
        "#  6th answer\n",
        "# case-1\n",
        "A = 5.0\n",
        "B = 10/2\n",
        "print(A is B)\n",
        "print(id(A))\n",
        "print(id(B))\n",
        "'''in this case it will give false bcz both the id is changed as above both the object are float and in float python keeps the object in different memory location\n",
        "and (is) identity operator is check the id location '''"
      ],
      "metadata": {
        "colab": {
          "base_uri": "https://localhost:8080/"
        },
        "id": "pdaJZcUyYtVY",
        "outputId": "92469a2b-b726-4940-e287-ae042f5914ee"
      },
      "execution_count": 96,
      "outputs": [
        {
          "output_type": "stream",
          "name": "stdout",
          "text": [
            "False\n",
            "140437665482256\n",
            "140437665769840\n"
          ]
        }
      ]
    },
    {
      "cell_type": "code",
      "source": [
        "# 6th answer\n",
        "# case-2\n",
        "A = 5.0\n",
        "B = int(10/2)\n",
        "print(A is B)\n",
        "print(id(A))\n",
        "print(id(B))\n",
        "\n",
        "# in this it will give false bcz both of the object are of different datatype, one is float and one is int, so again it will save in different memory location."
      ],
      "metadata": {
        "colab": {
          "base_uri": "https://localhost:8080/"
        },
        "id": "tElXHp-poIM3",
        "outputId": "c32ac710-59e0-4e10-9ec6-4380e91f4c06"
      },
      "execution_count": 99,
      "outputs": [
        {
          "output_type": "stream",
          "name": "stdout",
          "text": [
            "False\n",
            "140437665143440\n",
            "11122720\n"
          ]
        }
      ]
    },
    {
      "cell_type": "code",
      "source": [
        "# 6th answer\n",
        "# case-3\n",
        "A = 5.0\n",
        "B = float(10/2)\n",
        "print(A is B)\n",
        "'''in this both the object are of same datatype but they are float, so in python for float python do not use heap memory for float, bcz of repeatatoin of the number after\n",
        "decimal'''"
      ],
      "metadata": {
        "colab": {
          "base_uri": "https://localhost:8080/"
        },
        "id": "U9ledtuooIa6",
        "outputId": "2e3192fb-0bd4-4d68-e1a5-b400c6bd1f34"
      },
      "execution_count": 100,
      "outputs": [
        {
          "output_type": "stream",
          "name": "stdout",
          "text": [
            "False\n"
          ]
        }
      ]
    },
    {
      "cell_type": "markdown",
      "source": [
        "### Try to understand the following examples and answer the question based on it - \n",
        "    \n",
        "**Arithmatic Operators**\n",
        "\n",
        "|Operation|Meaning|\n",
        "|:-:|:-:|\n",
        "| **+** |addition|\n",
        "| **-** |subtraction|\n",
        "| **\\*** |multiplication|\n",
        "| **/** |true division|\n",
        "| **//** |integer division|\n",
        "| **%** |the modulo operator|\n",
        "\n",
        "\n",
        "Here `+`, `-`, `*`, `/` are regular arithmatic operators. Lets look at the `//` and `%` operators\n",
        "\n",
        "Usecase or examples - \n",
        "    \n",
        "```python\n",
        "var_a = 5\n",
        "var_b = 25\n",
        "integer_division = var_b // var_a\n",
        "print(f\"integer division: {var_b}/{var_a}={integer_division}\")\n",
        "```\n",
        "\n",
        "OUTPUT: integer division: 25/5=5\n",
        "\n",
        "```python\n",
        "var_a = 3\n",
        "var_b = 25\n",
        "integer_division = var_b // var_a\n",
        "print(f\"integer division: {var_b}/{var_a}={integer_division}\")\n",
        "```\n",
        "\n",
        "OUTPUT: integer division: 25/3=8\n",
        "\n",
        "```python\n",
        "var_a = 5\n",
        "var_b = 25\n",
        "remainder = var_b % var_a\n",
        "print(f\"remainder: {var_b}/{var_a} is {remainder}\")\n",
        "```\n",
        "\n",
        "OUTPUT: remainder: 25/5 is 0\n",
        "\n",
        "```python\n",
        "var_a = 3\n",
        "var_b = 25\n",
        "remainder = var_b % var_a\n",
        "print(f\"remainder: {var_b}/{var_a} is {remainder}\")\n",
        "```\n",
        "\n",
        "OUTPUT: remainder: 25/3 is 1\n",
        "\n"
      ],
      "metadata": {
        "id": "a_4kbBVWNY-4"
      }
    },
    {
      "cell_type": "markdown",
      "source": [
        "### Answer below questions on the above theory - \n",
        "\n",
        "7. Write a program that asks the user to enter a number. You should print out a message to the user, either “That number is divisible by either 3 or 5”, or “That number is not divisible by either 3 or 5”. Be sure to consider the data type of the input you are taking in from the user. Use a single if/else block to solve this problem.\n",
        "\n",
        "8. Take user input for length and width. Then calculate the area of rectangle. Also print as per length and width whether its a square of rectangle.\n",
        "\n",
        "9. Take two variable radius_1 and radius_2 and calculate the area of circle_1 and circle_2. Also print which circle has large area. If area is equal then print area is equal.\n",
        "\n",
        "10. Check whether a year is leap year or not. Use nested if...else to solve this problem. A leap year is exactly divisible by 4 except for century years (years ending with 00). The century year is a leap year only if it is perfectly divisible by 400."
      ],
      "metadata": {
        "id": "v288WPlMNxmM"
      }
    },
    {
      "cell_type": "code",
      "source": [
        "# answer 7 with not divisible value\n",
        "a=int(input())\n",
        "divisible3= a%3==0\n",
        "divisible5= a%5==0\n",
        "if divisible3 or divisible5:\n",
        "  print(\"That number is divisible by either 3 or 5\")\n",
        "else:\n",
        "  print(\"That number is not divisible by either 3 or 5\")\n",
        "\n"
      ],
      "metadata": {
        "colab": {
          "base_uri": "https://localhost:8080/"
        },
        "id": "IDPQb2eXqzEL",
        "outputId": "94c40bbd-e587-4437-d1a5-88f6432e6ab3"
      },
      "execution_count": 101,
      "outputs": [
        {
          "output_type": "stream",
          "name": "stdout",
          "text": [
            "67\n",
            "That number is not divisible by either 3 or 5\n"
          ]
        }
      ]
    },
    {
      "cell_type": "code",
      "source": [
        "# answer 7th with divisble value\n",
        "a=int(input())\n",
        "divisible3= a%3==0\n",
        "divisible5= a%5==0\n",
        "if divisible3 or divisible5:\n",
        "  print(\"That number is divisible by either 3 or 5\")\n",
        "else:\n",
        "  print(\"That number is not divisible by either 3 or 5\")"
      ],
      "metadata": {
        "id": "9fP5EZ6Q6qm1",
        "outputId": "a7303db2-ccbe-46ea-f7bc-d3ceb404b114",
        "colab": {
          "base_uri": "https://localhost:8080/"
        }
      },
      "execution_count": 102,
      "outputs": [
        {
          "output_type": "stream",
          "name": "stdout",
          "text": [
            "30\n",
            "That number is divisible by either 3 or 5\n"
          ]
        }
      ]
    },
    {
      "cell_type": "code",
      "source": [
        "# answer 8th\n",
        "# Take user input for length and width. Then calculate the area of rectangle. Also print as per length and width whether its a square of rectangle. \n",
        "length=int(input())\n",
        "breadth=int(input())\n",
        "area_of_rectangle=(length*breadth)\n",
        "print(area_of_rectangle)\n",
        "if length!=breadth:\n",
        "  print('this is rectangle')\n",
        "else:\n",
        "  print('this is square')\n",
        "\n"
      ],
      "metadata": {
        "colab": {
          "base_uri": "https://localhost:8080/"
        },
        "id": "hbwhFr4qqy6p",
        "outputId": "aaa79e67-4dd7-4373-91a2-6ace77aedeba"
      },
      "execution_count": 106,
      "outputs": [
        {
          "output_type": "stream",
          "name": "stdout",
          "text": [
            "4\n",
            "4\n",
            "16\n",
            "this is square\n"
          ]
        }
      ]
    },
    {
      "cell_type": "code",
      "source": [
        "#Take two variable radius_1 and radius_2 and calculate the area \n",
        "# of circle_1 and circle_2. Also print which circle has large area. If area is equal then print area is equal.\n",
        "# answer 9th\n",
        "# we have taken 3.14 as the value of pi\n",
        "circle_1=int(input())\n",
        "circle_2=int(input())\n",
        "area_of_circle1=int(2*3.14*circle_1)\n",
        "area_of_circle2=int(2*3.14*circle_2)\n",
        "print(area_of_circle1)\n",
        "print(area_of_circle2)\n",
        "if area_of_circle1>area_of_circle2:\n",
        "  print('circle_1 has the larger area')\n",
        "else:\n",
        "  print('circle_2 has the larger area')"
      ],
      "metadata": {
        "id": "khh2q4WX6tRy",
        "colab": {
          "base_uri": "https://localhost:8080/"
        },
        "outputId": "9c1b4913-6f82-45f8-be55-f1340ddaf699"
      },
      "execution_count": 115,
      "outputs": [
        {
          "output_type": "stream",
          "name": "stdout",
          "text": [
            "3\n",
            "4\n",
            "18\n",
            "25\n",
            "circle_2 has the larger area\n"
          ]
        }
      ]
    },
    {
      "cell_type": "code",
      "source": [
        "# answer 9th\n",
        "year=int(input())\n",
        "if year%4==0:\n",
        "  if year%400==0:\n",
        "    print('this is century leap year')\n",
        "  else:\n",
        "    print('this is leap year')\n",
        "\n",
        "else:\n",
        "  print('this is not leap year')\n",
        "\n",
        "\n",
        "\n",
        "\n",
        "\n"
      ],
      "metadata": {
        "id": "OXO34tjV_pCb",
        "outputId": "af130856-8a26-4a96-cc12-33f94ef1d1fb",
        "colab": {
          "base_uri": "https://localhost:8080/"
        }
      },
      "execution_count": 124,
      "outputs": [
        {
          "output_type": "stream",
          "name": "stdout",
          "text": [
            "2000\n",
            "this is century leap year\n"
          ]
        }
      ]
    }
  ]
}